{
 "cells": [
  {
   "cell_type": "code",
   "execution_count": 1,
   "metadata": {},
   "outputs": [],
   "source": [
    "import warnings\n",
    "warnings.filterwarnings(\"ignore\")\n",
    "import pandas as pd\n",
    "import numpy as np\n",
    "import constants as c\n"
   ]
  },
  {
   "cell_type": "code",
   "execution_count": 2,
   "metadata": {},
   "outputs": [],
   "source": [
    "df = pd.read_csv(\"test1.csv\")\n",
    "df2 = pd.read_csv(\"test2.csv\")\n"
   ]
  },
  {
   "cell_type": "code",
   "execution_count": 3,
   "metadata": {},
   "outputs": [],
   "source": [
    "C_default_val = c.C_default_val\n",
    "default_val_col = c.C_default_val_col\n",
    "#####################################\n",
    "col_val_len = c.C_col_val_len\n",
    "val_len_col = c.C_val_len_col\n",
    "#####################################\n",
    "multi_val_lst = c.C_multi_val_lst\n",
    "multi_val_col = c.C_multi_val_col\n",
    "####################################\n",
    "pmry_key = c.C_pmry_key"
   ]
  },
  {
   "cell_type": "code",
   "execution_count": 4,
   "metadata": {},
   "outputs": [
    {
     "name": "stdout",
     "output_type": "stream",
     "text": [
      "Total No. of records : 6\n",
      "Toral No. of columns : 6\n"
     ]
    }
   ],
   "source": [
    "print(\"Total No. of records :\",len(df))\n",
    "print(\"Toral No. of columns :\",len(df.columns))"
   ]
  },
  {
   "cell_type": "code",
   "execution_count": 5,
   "metadata": {},
   "outputs": [
    {
     "name": "stdout",
     "output_type": "stream",
     "text": [
      "IONCUST is the unique value in column CUTM and passed value IONCUST is matching with the uinque value in the column\n"
     ]
    }
   ],
   "source": [
    "#################### default_val_check #########################\n",
    "def default_val_check(C_default_val,df,col):\n",
    "    # print(df[col])\n",
    "    if len(list(df[col].unique())) > 1:   \n",
    "        print(\"{0} has more than one unique value..\".format(default_val_col))\n",
    "        print(df[col].unique())\n",
    "        default_val = \"Fail\"\n",
    "    \n",
    "    elif len(list(df[col].unique())) == 1 and list(df[col].unique())[0] == C_default_val:\n",
    "        print(\"{0} is the unique value in column {1} and passed value {2} is matching with the uinque value in the column\".format(list(df[default_val_col].unique())[0],default_val_col,C_default_val))\n",
    "        default_val = \"Pass\"\n",
    "    return default_val\n",
    "      \n",
    "default_val = default_val_check(C_default_val,df,default_val_col)"
   ]
  },
  {
   "cell_type": "code",
   "execution_count": 6,
   "metadata": {},
   "outputs": [
    {
     "name": "stdout",
     "output_type": "stream",
     "text": [
      "CUNO column values are having expected lenght of 5\n",
      "*******************************************************\n",
      "CUNO column values are not having expected lenght of 5\n",
      "CUNO column have following len of digits in there values [8, 5, 7]\n",
      "************************************************************\n",
      "************************************************************\n",
      "      CUTM LNCD      CUNO ECAR ACCOUNT_STATUS  STAT\n",
      "0  IONCUST   GB  90654566   OH         Active    20\n",
      "************************************************************\n",
      "      CUTM LNCD   CUNO ECAR ACCOUNT_STATUS  STAT\n",
      "0  IONCUST   GB  31004   IA         Active    20\n",
      "1      NaN   GB  31004  NaN            NaN    40\n",
      "2  IONCUST   GB  63481   PA         Active    35\n",
      "3  IONCUST   GB  98881   MI         Active    10\n",
      "************************************************************\n",
      "      CUTM LNCD     CUNO ECAR ACCOUNT_STATUS  STAT\n",
      "0  IONCUST  NaN  5900109   FA            NaN    30\n",
      "************************************************************\n"
     ]
    }
   ],
   "source": [
    "#################### col_len_check #########################\n",
    "def col_len_check(col_val_len,df,val_len_col):\n",
    "    val_lst= list(df[val_len_col].astype(str).str.len())\n",
    "    if len(set(val_lst)) == 1 and list(set(val_lst))[0] == col_val_len:        \n",
    "        print(\"{0} column values are having expected lenght of {1}\".format(val_len_col,col_val_len))\n",
    "        # print(list(set(val_lst))[0])\n",
    "        col_len = \"Pass\"\n",
    "    \n",
    "    elif len(set(val_lst)) > 1:\n",
    "        _val = list(set(val_lst))\n",
    "        print(\"{0} column values are not having expected lenght of {1}\".format(val_len_col,col_val_len))\n",
    "        print(\"{0} column have following len of digits in there values\".format(val_len_col),_val)\n",
    "        print(\"*\"*60)\n",
    "        print(\"*\"*60)\n",
    "        col_len = \"Fail\"\n",
    "        for i in range(len(_val)):\n",
    "            print(df[df[val_len_col].astype(str).str.len() == _val[i]].reset_index(drop=True))\n",
    "            print(\"*\"*60)\n",
    "    return col_len\n",
    "\n",
    "col_len_check(col_val_len,df,val_len_col)\n",
    "print('*******************************************************')\n",
    "col_len = col_len_check(col_val_len,df2,val_len_col)"
   ]
  },
  {
   "cell_type": "code",
   "execution_count": 7,
   "metadata": {},
   "outputs": [
    {
     "name": "stdout",
     "output_type": "stream",
     "text": [
      " ECAR column values are not matching with the match values..\n",
      "************************************************************\n",
      "************************************************************\n",
      "      CUTM LNCD   CUNO ECAR ACCOUNT_STATUS  STAT\n",
      "3  IONCUST   GB  98881   MI         Active    20\n"
     ]
    }
   ],
   "source": [
    "#################  multi_val_check  ######################\n",
    "def multi_val_check(multi_val_lst,df,multi_val_col):\n",
    "    if len(df[~df[multi_val_col].isin(multi_val_lst)]) == 0:\n",
    "        print(\" {0} column has all the values matching..\".format(multi_val_col))\n",
    "        multi_val = \"Pass\"\n",
    "    else :\n",
    "        print(\" {0} column values are not matching with the match values..\".format(multi_val_col))\n",
    "        print(\"*\"*60)\n",
    "        print(\"*\"*60)\n",
    "        print(df[~df[multi_val_col].isin(multi_val_lst)])\n",
    "        multi_val = \"Fail\"\n",
    "    return multi_val\n",
    "\n",
    "multi_val = multi_val_check(multi_val_lst,df,multi_val_col)"
   ]
  },
  {
   "cell_type": "code",
   "execution_count": 8,
   "metadata": {},
   "outputs": [
    {
     "name": "stdout",
     "output_type": "stream",
     "text": [
      "Alert..!! Duplicate records found based on primary key(s) :['CUNO', 'CUTM']\n",
      "      CUTM LNCD ECAR ACCOUNT_STATUS     CUNO     CUTM\n",
      "1      NaN   GB  NaN            NaN    31004      NaN\n",
      "4  IONCUST  NaN   FA            NaN  5900109  IONCUST\n"
     ]
    }
   ],
   "source": [
    "################ Nulls check  #########################################\n",
    "\n",
    "def null_val_check(pmry_key,df):\n",
    "    a = df.columns[df.isna().any()].tolist() # checks for the column which have nulls \n",
    "    a.extend(pmry_key)\n",
    "    nan_values = df[df.isna().any(axis=1)]  \n",
    "    if len(nan_values) == 0:\n",
    "        print('No Nulls found based on primary key(s) :{0}'.format(pmry_key))\n",
    "        null_val = \"Pass\"\n",
    "    elif len(nan_values) >= 1:\n",
    "        print(\"Alert..!! Duplicate records found based on primary key(s) :{0}\".format(pmry_key))\n",
    "        print(nan_values[a])\n",
    "        null_val = \"Fail\"\n",
    "    return null_val\n",
    "\n",
    "null_val = null_val_check(pmry_key,df2)"
   ]
  },
  {
   "cell_type": "code",
   "execution_count": 9,
   "metadata": {},
   "outputs": [
    {
     "name": "stdout",
     "output_type": "stream",
     "text": [
      "No duplicate found based on primary key(s) :['CUNO', 'CUTM']\n"
     ]
    }
   ],
   "source": [
    "################ Duplicate check  #########################################\n",
    "def duplicate_check(pmry_key,df):\n",
    "    a = df[df.duplicated(pmry_key)]\n",
    "    if len(a) == 0:\n",
    "        print('No duplicate found based on primary key(s) :{0}'.format(pmry_key))\n",
    "        duplicate_val = \"Pass\"\n",
    "    elif len(a) >= 1:\n",
    "        print(\"Alert..!! Duplicate records found based on primary key(s) :{0}\".format(pmry_key))\n",
    "        duplicate_val = \"Fail\"\n",
    "        print(a)\n",
    "    return duplicate_val\n",
    "\n",
    "duplicate_val = duplicate_check(pmry_key,df2)"
   ]
  },
  {
   "cell_type": "code",
   "execution_count": 24,
   "metadata": {},
   "outputs": [],
   "source": [
    "############  Transformation check  ####################\n",
    "\n",
    "# STAT\tAccount Status\tIf ACCOUNT_STATUS = 'Active', then STAT = 20 ELSE STAT = 10\n",
    "source_df = pd.read_csv(\"source.csv\")\n",
    "\n",
    "df3 = df[['CUNO','CUTM','ACCOUNT_STATUS','STAT']]\n",
    "final_df = pd.merge(source_df,df3, on = 'CUNO')\n",
    "final_df['STAT_RES'] = \"\"\n",
    "\n",
    "for i in range(len(final_df)): \n",
    "    if final_df['STAT_x'][i] == final_df['STAT_y'][i]:\n",
    "        final_df['STAT_RES'][i] = 'Match'\n",
    "        \n",
    "    elif final_df['STAT_x'][i] != final_df['STAT_y'][i]:\n",
    "        final_df['STAT_RES'][i] = 'Not Match'\n",
    "\n",
    "trans_check_val = True in (ele == 'Match' for ele in final_df['STAT_RES'])\n",
    "if trans_check_val == True:\n",
    "    trans_check = 'Pass'\n",
    "else:\n",
    "    trans_check = 'Fail'\n",
    "# for i in range(len(final_df)):\n",
    "#     if final_df['STAT_RES'][i] == 'Match':\n",
    "#         trans_check = 'Pass'\n"
   ]
  },
  {
   "cell_type": "code",
   "execution_count": 25,
   "metadata": {},
   "outputs": [
    {
     "data": {
      "text/plain": [
       "'Pass'"
      ]
     },
     "execution_count": 25,
     "metadata": {},
     "output_type": "execute_result"
    }
   ],
   "source": [
    "trans_check"
   ]
  },
  {
   "cell_type": "code",
   "execution_count": 26,
   "metadata": {},
   "outputs": [
    {
     "data": {
      "text/html": [
       "<div>\n",
       "<style scoped>\n",
       "    .dataframe tbody tr th:only-of-type {\n",
       "        vertical-align: middle;\n",
       "    }\n",
       "\n",
       "    .dataframe tbody tr th {\n",
       "        vertical-align: top;\n",
       "    }\n",
       "\n",
       "    .dataframe thead th {\n",
       "        text-align: right;\n",
       "    }\n",
       "</style>\n",
       "<table border=\"1\" class=\"dataframe\">\n",
       "  <thead>\n",
       "    <tr style=\"text-align: right;\">\n",
       "      <th></th>\n",
       "      <th>default_val</th>\n",
       "      <th>col_len</th>\n",
       "      <th>multi_val</th>\n",
       "      <th>null_val</th>\n",
       "      <th>duplicate_val</th>\n",
       "      <th>Transformation_check</th>\n",
       "      <th>Pass%</th>\n",
       "      <th>Fail%</th>\n",
       "    </tr>\n",
       "  </thead>\n",
       "  <tbody>\n",
       "    <tr>\n",
       "      <th>0</th>\n",
       "      <td>Pass</td>\n",
       "      <td>Fail</td>\n",
       "      <td>Fail</td>\n",
       "      <td>Fail</td>\n",
       "      <td>Pass</td>\n",
       "      <td>Pass</td>\n",
       "      <td>50.0</td>\n",
       "      <td>50.0</td>\n",
       "    </tr>\n",
       "  </tbody>\n",
       "</table>\n",
       "</div>"
      ],
      "text/plain": [
       "  default_val col_len multi_val null_val duplicate_val Transformation_check  \\\n",
       "0        Pass    Fail      Fail     Fail          Pass                 Pass   \n",
       "\n",
       "   Pass%  Fail%  \n",
       "0   50.0   50.0  "
      ]
     },
     "execution_count": 26,
     "metadata": {},
     "output_type": "execute_result"
    }
   ],
   "source": [
    "res_df = pd.DataFrame([[default_val,col_len,multi_val,null_val,duplicate_val,trans_check]],columns=['default_val','col_len','multi_val','null_val','duplicate_val','Transformation_check'])\n",
    "def prcnt_cal(df):\n",
    "    _pass = 0\n",
    "    _fail = 0\n",
    "    _len = len(df.columns)\n",
    "    for (colname,colval) in res_df.iteritems():\n",
    "        if colval.values[0] == 'Pass':\n",
    "            _pass = _pass + 1\n",
    "        else:\n",
    "            _fail = _fail + 1\n",
    "  #  print(_pass)\n",
    "  #  print(_fail)\n",
    "    _pass_prct = _pass/_len * 100\n",
    "    _fail_prct = _fail/_len * 100 \n",
    "   # print(_pass_prct, _fail_prct)\n",
    "    return _pass_prct, _fail_prct\n",
    "pass_prct, fail_prct =   prcnt_cal(res_df)\n",
    "res_df_main = pd.DataFrame([[default_val,col_len,multi_val,null_val,duplicate_val,trans_check,pass_prct,fail_prct]],columns=['default_val','col_len','multi_val','null_val','duplicate_val','Transformation_check','Pass%','Fail%'])\n",
    "res_df_main"
   ]
  },
  {
   "cell_type": "code",
   "execution_count": 76,
   "metadata": {},
   "outputs": [],
   "source": [
    "    "
   ]
  },
  {
   "cell_type": "code",
   "execution_count": null,
   "metadata": {},
   "outputs": [],
   "source": []
  }
 ],
 "metadata": {
  "kernelspec": {
   "display_name": "Python 3",
   "language": "python",
   "name": "python3"
  },
  "language_info": {
   "codemirror_mode": {
    "name": "ipython",
    "version": 3
   },
   "file_extension": ".py",
   "mimetype": "text/x-python",
   "name": "python",
   "nbconvert_exporter": "python",
   "pygments_lexer": "ipython3",
   "version": "3.7.7"
  },
  "orig_nbformat": 4
 },
 "nbformat": 4,
 "nbformat_minor": 2
}
